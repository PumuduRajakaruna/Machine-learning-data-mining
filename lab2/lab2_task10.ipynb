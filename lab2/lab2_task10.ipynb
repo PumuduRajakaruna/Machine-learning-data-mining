{
 "cells": [
  {
   "cell_type": "code",
   "execution_count": 30,
   "metadata": {},
   "outputs": [],
   "source": [
    "import pandas as pd\n",
    "\n",
    "import matplotlib.pyplot as plt\n",
    "import numpy as np\n",
    "from sklearn.model_selection import train_test_split\n",
    "from sklearn.ensemble import RandomForestClassifier\n",
    "from sklearn.metrics import accuracy_score"
   ]
  },
  {
   "cell_type": "code",
   "execution_count": 81,
   "metadata": {},
   "outputs": [],
   "source": [
    "# Load data from .data file \n",
    "data = pd.read_csv('./cervical+cancer+behavior+risk/sobar-72.csv')\n"
   ]
  },
  {
   "cell_type": "code",
   "execution_count": 83,
   "metadata": {},
   "outputs": [],
   "source": [
    "#  Calculating the percentage of correctly classified examples\n",
    "# \n",
    "def PercentCorrect(Inputs, targets, weights):\n",
    "    N = len(targets)\n",
    "    nCorrect = 0\n",
    "    for n in range(N):\n",
    "        OneInput = Inputs[n,:]\n",
    "        if (targets[n]*np.dot(OneInput, weights) > 0):\n",
    "            nCorrect += 1 \n",
    "    return 100*nCorrect/N \n"
   ]
  },
  {
   "cell_type": "code",
   "execution_count": 91,
   "metadata": {},
   "outputs": [
    {
     "name": "stdout",
     "output_type": "stream",
     "text": [
      "(72, 20)\n",
      "(72,)\n",
      "(72, 19)\n",
      "(36, 19) (36,) (36, 19) (36,)\n"
     ]
    }
   ],
   "source": [
    "targets = []\n",
    "targets = data.iloc[:, 19].values\n",
    "print(targets.shape)\n",
    "\n",
    "for i in range(len(targets)):\n",
    "    if(targets[i] == 0):\n",
    "        targets[i] = -1\n",
    "\n",
    "X = data.iloc[:, 0:18+1]\n",
    "\n",
    "NumDataPerClass = 36\n",
    "\n",
    "rIndex = np.random.permutation(X.shape[0])  # Shuffle row indices\n",
    "Xr = X.iloc[rIndex]  # Shuffle rows of X\n",
    "yr = targets[rIndex]  # Corresponding labels after shuffling\n",
    "\n",
    "X_train = Xr[0:NumDataPerClass]\n",
    "y_train = yr[0:NumDataPerClass]\n",
    "X_test = Xr[NumDataPerClass:2*NumDataPerClass]\n",
    "y_test = yr[NumDataPerClass:2*NumDataPerClass]\n",
    "print(X_train.shape, y_train.shape, X_test.shape, y_test.shape)\n",
    "\n",
    "Ntrain = NumDataPerClass\n",
    "Ntest = NumDataPerClass\n",
    "\n",
    "X_train = X_train.values\n",
    "X_test = X_test.values\n",
    "\n"
   ]
  },
  {
   "cell_type": "code",
   "execution_count": 119,
   "metadata": {},
   "outputs": [
    {
     "name": "stdout",
     "output_type": "stream",
     "text": [
      "Initial Percentage Correct:  88.89\n",
      "Percentage Correct After Training:  97.22  72.22\n"
     ]
    }
   ],
   "source": [
    "# Iterative error correcting learning\n",
    "# \n",
    "\n",
    "# Perceptron learning loop\n",
    "# Random initialization of weights\n",
    "w = np.random.randn(19)\n",
    "\n",
    "# What is the performance with the initial random weights?\n",
    "print('Initial Percentage Correct: %6.2f' %(PercentCorrect(X_train, y_train, w)))\n",
    "\n",
    "# Fixed number of iterations (think of better stopping criterion)\n",
    "MaxIter=1000\n",
    "# Learning rate (change this to see convergence changing)\n",
    "alpha = 0.002\n",
    "\n",
    "# Space to save answers for plotting\n",
    "P_train = np.zeros(MaxIter)\n",
    "P_test = np.zeros(MaxIter)\n",
    "\n",
    "# Main Loop\n",
    "for iter in range(MaxIter):\n",
    "    # Select a data item at random\n",
    "    r = np.floor(np.random.rand()*Ntrain).astype(int)\n",
    "    x = X_train[r,:]\n",
    "    \n",
    "    # If it is misclassified, update weights\n",
    "    if (y_train[r] * np.dot(x, w) < 0):\n",
    "       w += alpha * y_train[r] * x\n",
    "    # Evaluate trainign and test performances for plotting\n",
    "    P_train[iter] = PercentCorrect(X_train, y_train, w)\n",
    "    P_test[iter] = PercentCorrect(X_test, y_test, w)\n",
    "print('Percentage Correct After Training: %6.2f %6.2f'%(PercentCorrect(X_train, y_train, w), PercentCorrect(X_test, y_test, w)))"
   ]
  }
 ],
 "metadata": {
  "kernelspec": {
   "display_name": "Python 3",
   "language": "python",
   "name": "python3"
  },
  "language_info": {
   "codemirror_mode": {
    "name": "ipython",
    "version": 3
   },
   "file_extension": ".py",
   "mimetype": "text/x-python",
   "name": "python",
   "nbconvert_exporter": "python",
   "pygments_lexer": "ipython3",
   "version": "3.12.1"
  }
 },
 "nbformat": 4,
 "nbformat_minor": 2
}
